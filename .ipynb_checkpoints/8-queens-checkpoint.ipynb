{
 "cells": [
  {
   "cell_type": "code",
   "execution_count": 1,
   "id": "021171cc",
   "metadata": {},
   "outputs": [],
   "source": [
    "import numpy as np"
   ]
  },
  {
   "cell_type": "code",
   "execution_count": 22,
   "id": "17539fc4",
   "metadata": {},
   "outputs": [],
   "source": [
    "def initial_population(population_size):\n",
    "    population = []\n",
    "    for _ in range(population_size):\n",
    "        population.append(np.random.permutation(8))\n",
    "    return np.array(population)"
   ]
  },
  {
   "cell_type": "code",
   "execution_count": 23,
   "id": "15ff4f2c",
   "metadata": {},
   "outputs": [],
   "source": [
    "def fitness(chromosome):\n",
    "    score = 0\n",
    "    for i in range(len(chromosome)):\n",
    "        for j in range(len(chromosome)):\n",
    "            if j == i:\n",
    "                continue\n",
    "            if abs(i - j) == abs(chromosome[i] - chromosome[j]) or chromosome[i] == chromosome[j]:\n",
    "                score += 1\n",
    "    return -score"
   ]
  },
  {
   "cell_type": "code",
   "execution_count": 24,
   "id": "d3c0c789",
   "metadata": {},
   "outputs": [],
   "source": [
    "def selection(population, fitness_vals):\n",
    "    probs = fitness_vals.copy()\n",
    "    probs += abs(probs.min()) + 1\n",
    "    probs = probs / probs.sum()\n",
    "    n = len(population)\n",
    "    indices = np.arange(n)\n",
    "    selected_indices = np.random.choice(indices,size = n,p = probs)\n",
    "    selected_population = population[selected_indices]\n",
    "    return selected_population\n"
   ]
  },
  {
   "cell_type": "code",
   "execution_count": 25,
   "id": "8bf2e249",
   "metadata": {},
   "outputs": [],
   "source": [
    "def crossover(parent1, parent2, threshold):\n",
    "    rnd = np.random.random()\n",
    "    if rnd < threshold:\n",
    "        crossover_point = np.random.randint(1,8)\n",
    "        child1 = np.concatenate([parent1[:crossover_point],parent2[crossover_point:]])\n",
    "        child2 = np.concatenate([parent2[:crossover_point],parent1[crossover_point:]])\n",
    "    else:\n",
    "        child1 = parent1.copy()\n",
    "        child2 = parent2.copy()\n",
    "    return child1, child2"
   ]
  },
  {
   "cell_type": "code",
   "execution_count": 26,
   "id": "620f8b4b",
   "metadata": {},
   "outputs": [],
   "source": [
    "def mutation(selected_population, threshold):\n",
    "    rnd = np.random.random()\n",
    "    if rnd < threshold:\n",
    "        index = np.random.randint(8)\n",
    "        selected_population[index] = np.random.randint(8)\n",
    "    return selected_population"
   ]
  },
  {
   "cell_type": "code",
   "execution_count": 27,
   "id": "5fdcf497",
   "metadata": {},
   "outputs": [],
   "source": [
    "def crossover_mutation(selected_population, threshold_cross, threshold_mut):\n",
    "    population = []\n",
    "    for i in range(len(selected_population)//2):\n",
    "        child1, child2 = crossover(selected_population[2*i], selected_population[2*i+1], threshold_cross)\n",
    "        child1 = mutation(child1, threshold_mut)\n",
    "        child2 = mutation(child2, threshold_mut)\n",
    "        population.append(child1)\n",
    "        population.append(child2)\n",
    "        \n",
    "    return np.array(population)"
   ]
  },
  {
   "cell_type": "code",
   "execution_count": 28,
   "id": "af005dc8",
   "metadata": {},
   "outputs": [],
   "source": [
    "def eight_queens(population_size, max_generation, threshold_cross=0.5, threshold_mut=0.05):\n",
    "    population = initial_population(population_size)\n",
    "    best_fitness_overall = None\n",
    "    for i_gen in range(max_generation):\n",
    "        fitness_vals = np.array([fitness(chromosome) for chromosome in population])\n",
    "        best_index = np.argmax(fitness_vals)\n",
    "        best_fitness = fitness_vals[best_index]\n",
    "        \n",
    "        if best_fitness_overall is None or best_fitness > best_fitness_overall:\n",
    "            best_fitness_overall = best_fitness\n",
    "            best_solution = population[best_index]\n",
    "        \n",
    "        print(f'Generation = {i_gen} Fitness = {-1*best_fitness_overall}',end='\\r')\n",
    "        if best_fitness == 0:\n",
    "            print('\\nSolution found')\n",
    "            break\n",
    "        \n",
    "        selected_population = selection(population, fitness_vals)\n",
    "        population = crossover_mutation(selected_population, threshold_cross, threshold_mut)\n",
    "        \n",
    "    print(f\"Best Solution: {best_solution}\")"
   ]
  },
  {
   "cell_type": "code",
   "execution_count": 29,
   "id": "c45f6117",
   "metadata": {
    "scrolled": true
   },
   "outputs": [
    {
     "name": "stdout",
     "output_type": "stream",
     "text": [
      "Generation = 0 Fitness = 2\r",
      "Generation = 1 Fitness = 2\r",
      "Generation = 2 Fitness = 2\r",
      "Generation = 3 Fitness = 2\r",
      "Generation = 4 Fitness = 2\r",
      "Generation = 5 Fitness = 2\r",
      "Generation = 6 Fitness = 2\r",
      "Generation = 7 Fitness = 2\r",
      "Generation = 8 Fitness = 2\r",
      "Generation = 9 Fitness = 2\r",
      "Generation = 10 Fitness = 2\r",
      "Generation = 11 Fitness = 2\r",
      "Generation = 12 Fitness = 2\r",
      "Generation = 13 Fitness = 2\r",
      "Generation = 14 Fitness = 2\r",
      "Generation = 15 Fitness = 2\r",
      "Generation = 16 Fitness = 2\r",
      "Generation = 17 Fitness = 2\r",
      "Generation = 18 Fitness = 2\r",
      "Generation = 19 Fitness = 0\r\n",
      "Solution found\n",
      "Best Solution: [2 4 7 3 0 6 1 5]\n"
     ]
    }
   ],
   "source": [
    "eight_queens(100,5000, 0.7, 0.1)"
   ]
  },
  {
   "cell_type": "code",
   "execution_count": null,
   "id": "36f062fd",
   "metadata": {},
   "outputs": [],
   "source": []
  },
  {
   "cell_type": "code",
   "execution_count": null,
   "id": "a95900e5",
   "metadata": {},
   "outputs": [],
   "source": []
  }
 ],
 "metadata": {
  "kernelspec": {
   "display_name": "Python 3 (ipykernel)",
   "language": "python",
   "name": "python3"
  },
  "language_info": {
   "codemirror_mode": {
    "name": "ipython",
    "version": 3
   },
   "file_extension": ".py",
   "mimetype": "text/x-python",
   "name": "python",
   "nbconvert_exporter": "python",
   "pygments_lexer": "ipython3",
   "version": "3.11.7"
  }
 },
 "nbformat": 4,
 "nbformat_minor": 5
}
